{
 "cells": [
  {
   "cell_type": "code",
   "execution_count": 5,
   "id": "d864b4a3-9725-4eab-97d6-c7b759c5f704",
   "metadata": {},
   "outputs": [],
   "source": [
    "%matplotlib widget\n",
    "import lux\n",
    "from matplotlib import pyplot as plt\n",
    "from scipy.stats import linregress\n",
    "import numpy as np\n",
    "from sklearn import datasets\n",
    "import pandas as pd\n",
    "from matplotlib.animation import FuncAnimation\n"
   ]
  },
  {
   "cell_type": "code",
   "execution_count": 7,
   "id": "59043eb4-9c9a-4580-bd69-764c9588f2f8",
   "metadata": {},
   "outputs": [
    {
     "name": "stderr",
     "output_type": "stream",
     "text": [
      "/Users/matthewidle/anaconda3/lib/python3.10/site-packages/lux/executor/PandasExecutor.py:448: UserWarning:\n",
      "Lux detects that the attribute 'time' may be temporal.\n",
      "To display visualizations for these attributes accurately, please convert temporal attributes to Datetime objects.\n",
      "For example, you can convert a Year attribute (e.g., 1998, 1971, 1982) using pd.to_datetime by specifying the `format` as '%Y'.\n",
      "\n",
      "Here is a starter template that you can use for converting the temporal fields:\n",
      "\tdf['time'] = pd.to_datetime(df['time'], format='<replace-with-datetime-format>')\n",
      "\n",
      "See more at: https://pandas.pydata.org/pandas-docs/stable/reference/api/pandas.to_datetime.html\n",
      "If time is not a temporal attribute, please use override Lux's automatically detected type:\n",
      "\tdf.set_data_type({'time':'quantitative'})\n",
      "/Users/matthewidle/anaconda3/lib/python3.10/site-packages/lux/executor/PandasExecutor.py:448: UserWarning:\n",
      "Lux detects that the attribute 'time' may be temporal.\n",
      "To display visualizations for these attributes accurately, please convert temporal attributes to Datetime objects.\n",
      "For example, you can convert a Year attribute (e.g., 1998, 1971, 1982) using pd.to_datetime by specifying the `format` as '%Y'.\n",
      "\n",
      "Here is a starter template that you can use for converting the temporal fields:\n",
      "\tdf['time'] = pd.to_datetime(df['time'], format='<replace-with-datetime-format>')\n",
      "\n",
      "See more at: https://pandas.pydata.org/pandas-docs/stable/reference/api/pandas.to_datetime.html\n",
      "If time is not a temporal attribute, please use override Lux's automatically detected type:\n",
      "\tdf.set_data_type({'time':'quantitative'})\n"
     ]
    },
    {
     "data": {
      "application/vnd.jupyter.widget-view+json": {
       "model_id": "afc065431b8142709167113f6b679c64",
       "version_major": 2,
       "version_minor": 0
      },
      "text/plain": [
       "Button(description='Toggle Pandas/Lux', layout=Layout(top='5px', width='140px'), style=ButtonStyle())"
      ]
     },
     "metadata": {},
     "output_type": "display_data"
    },
    {
     "data": {
      "application/vnd.jupyter.widget-view+json": {
       "model_id": "7ee9c1cc440a4051a74d54a44c378c39",
       "version_major": 2,
       "version_minor": 0
      },
      "text/plain": [
       "Output()"
      ]
     },
     "metadata": {},
     "output_type": "display_data"
    }
   ],
   "source": [
    "#this notebook is used to format and clean up the orignal tracking_week_x.csv files\n",
    "#so a generic week_df variable is used, care must be taken when exporting the CSV \n",
    "#to ensure the correct week is labeled correctly\n",
    "#this notebook could also contain ways to make CSV files with more specifics to make nalysis more pointed\n",
    "#and easier down the road\n",
    "week_df = pd.read_csv('../base_datasets/tracking_week_4.csv')\n",
    "week_df.head()"
   ]
  },
  {
   "cell_type": "code",
   "execution_count": 8,
   "id": "cbaca4dc-1906-476d-9c9d-7957e46c124c",
   "metadata": {},
   "outputs": [
    {
     "name": "stdout",
     "output_type": "stream",
     "text": [
      "<class 'lux.core.frame.LuxDataFrame'>\n",
      "RangeIndex: 1418686 entries, 0 to 1418685\n",
      "Data columns (total 17 columns):\n",
      " #   Column         Non-Null Count    Dtype  \n",
      "---  ------         --------------    -----  \n",
      " 0   gameId         1418686 non-null  int64  \n",
      " 1   playId         1418686 non-null  int64  \n",
      " 2   nflId          1357004 non-null  float64\n",
      " 3   displayName    1418686 non-null  object \n",
      " 4   frameId        1418686 non-null  int64  \n",
      " 5   time           1418686 non-null  object \n",
      " 6   jerseyNumber   1357004 non-null  float64\n",
      " 7   club           1418686 non-null  object \n",
      " 8   playDirection  1418686 non-null  object \n",
      " 9   x              1418686 non-null  float64\n",
      " 10  y              1418686 non-null  float64\n",
      " 11  s              1418686 non-null  float64\n",
      " 12  a              1418686 non-null  float64\n",
      " 13  dis            1418686 non-null  float64\n",
      " 14  o              1357361 non-null  float64\n",
      " 15  dir            1357361 non-null  float64\n",
      " 16  event          125983 non-null   object \n",
      "dtypes: float64(9), int64(3), object(5)\n",
      "memory usage: 184.0+ MB\n"
     ]
    }
   ],
   "source": [
    "week_df.info()"
   ]
  },
  {
   "cell_type": "code",
   "execution_count": 9,
   "id": "2bb21bd1-5740-49cb-9154-493f1318b661",
   "metadata": {},
   "outputs": [],
   "source": [
    "#jerseyNumber and nflId do not nead to be floats\n",
    "#however, doing an .astype() conversion threw up a bunch of errors related to NaN values\n",
    "#so, looking at the csv I found the ball position for the play has NA in the nflId and jerseyNumber fields\n",
    "# also the nflid in the players csv is datatype int64\n",
    "# the playId and other identifiers are still intact, so I filled those values with 0 \n",
    "week_df['jerseyNumber'].fillna(0, inplace=True)  # Replace NaN with 0\n",
    "week_df['nflId'].fillna(0, inplace=True)  # Replace NaN with 0\n",
    "week_df['jerseyNumber'] = week_df['jerseyNumber'].astype(int)\n",
    "week_df['nflId'] = week_df['nflId'].astype(int)"
   ]
  },
  {
   "cell_type": "code",
   "execution_count": 10,
   "id": "50f47c13-b887-47a0-88bf-305b1d487b6b",
   "metadata": {},
   "outputs": [
    {
     "name": "stdout",
     "output_type": "stream",
     "text": [
      "<class 'lux.core.frame.LuxDataFrame'>\n",
      "RangeIndex: 1418686 entries, 0 to 1418685\n",
      "Data columns (total 17 columns):\n",
      " #   Column         Non-Null Count    Dtype  \n",
      "---  ------         --------------    -----  \n",
      " 0   gameId         1418686 non-null  int64  \n",
      " 1   playId         1418686 non-null  int64  \n",
      " 2   nflId          1418686 non-null  int64  \n",
      " 3   displayName    1418686 non-null  object \n",
      " 4   frameId        1418686 non-null  int64  \n",
      " 5   time           1418686 non-null  object \n",
      " 6   jerseyNumber   1418686 non-null  int64  \n",
      " 7   club           1418686 non-null  object \n",
      " 8   playDirection  1418686 non-null  object \n",
      " 9   x              1418686 non-null  float64\n",
      " 10  y              1418686 non-null  float64\n",
      " 11  s              1418686 non-null  float64\n",
      " 12  a              1418686 non-null  float64\n",
      " 13  dis            1418686 non-null  float64\n",
      " 14  o              1357361 non-null  float64\n",
      " 15  dir            1357361 non-null  float64\n",
      " 16  event          125983 non-null   object \n",
      "dtypes: float64(7), int64(5), object(5)\n",
      "memory usage: 184.0+ MB\n"
     ]
    }
   ],
   "source": [
    "#verify datatypes were changed\n",
    "week_df.info()"
   ]
  },
  {
   "cell_type": "code",
   "execution_count": 11,
   "id": "cd0840d6-1ba3-4c35-98e2-9edb9958f1f1",
   "metadata": {},
   "outputs": [
    {
     "data": {
      "application/vnd.jupyter.widget-view+json": {
       "model_id": "3aa0a036efef495497b158c65cd6b31a",
       "version_major": 2,
       "version_minor": 0
      },
      "text/plain": [
       "Button(description='Toggle Pandas/Lux', layout=Layout(top='5px', width='140px'), style=ButtonStyle())"
      ]
     },
     "metadata": {},
     "output_type": "display_data"
    },
    {
     "data": {
      "application/vnd.jupyter.widget-view+json": {
       "model_id": "85f88e17443941079211638e05d65bcf",
       "version_major": 2,
       "version_minor": 0
      },
      "text/plain": [
       "Output()"
      ]
     },
     "metadata": {},
     "output_type": "display_data"
    }
   ],
   "source": [
    "week_df['event'].value_counts()"
   ]
  },
  {
   "cell_type": "code",
   "execution_count": 12,
   "id": "4926a3d6-8324-4428-a798-f3196e7e3331",
   "metadata": {},
   "outputs": [],
   "source": [
    "#reduce the floats to two decimal points\n",
    "week_df[['x', 'y', 's', 'a', 'dis']] = week_df[['x', 'y', 's', 'a', 'dis']].round(2)"
   ]
  },
  {
   "cell_type": "code",
   "execution_count": 13,
   "id": "d238f52e-6726-4d69-ad32-15be7a748822",
   "metadata": {},
   "outputs": [
    {
     "data": {
      "application/vnd.jupyter.widget-view+json": {
       "model_id": "08006ff24652473b871a0e497a6bace9",
       "version_major": 2,
       "version_minor": 0
      },
      "text/plain": [
       "Button(description='Toggle Pandas/Lux', layout=Layout(top='5px', width='140px'), style=ButtonStyle())"
      ]
     },
     "metadata": {},
     "output_type": "display_data"
    },
    {
     "data": {
      "application/vnd.jupyter.widget-view+json": {
       "model_id": "2add12a11f4f4b5d93bb2d1679366a96",
       "version_major": 2,
       "version_minor": 0
      },
      "text/plain": [
       "Output()"
      ]
     },
     "metadata": {},
     "output_type": "display_data"
    }
   ],
   "source": [
    "#select only cleveland\n",
    "cle_df = week_df.loc[week_df['club'] == 'CLE']\n",
    "cle_df.head()#list of playId numbers, may or may not use it laster\n",
    "cle_plays=cle_df['playId']\n",
    "cle_plays.head()"
   ]
  },
  {
   "cell_type": "code",
   "execution_count": 8,
   "id": "008f8a81-af23-427c-9c2a-729747b23a5c",
   "metadata": {},
   "outputs": [
    {
     "data": {
      "text/html": [
       "<div>\n",
       "<style scoped>\n",
       "    .dataframe tbody tr th:only-of-type {\n",
       "        vertical-align: middle;\n",
       "    }\n",
       "\n",
       "    .dataframe tbody tr th {\n",
       "        vertical-align: top;\n",
       "    }\n",
       "\n",
       "    .dataframe thead th {\n",
       "        text-align: right;\n",
       "    }\n",
       "</style>\n",
       "<table border=\"1\" class=\"dataframe\">\n",
       "  <thead>\n",
       "    <tr style=\"text-align: right;\">\n",
       "      <th></th>\n",
       "      <th>gameId</th>\n",
       "      <th>playId</th>\n",
       "      <th>nflId</th>\n",
       "      <th>displayName</th>\n",
       "      <th>frameId</th>\n",
       "      <th>time</th>\n",
       "      <th>jerseyNumber</th>\n",
       "      <th>club</th>\n",
       "      <th>playDirection</th>\n",
       "      <th>x</th>\n",
       "      <th>y</th>\n",
       "      <th>s</th>\n",
       "      <th>a</th>\n",
       "      <th>dis</th>\n",
       "      <th>o</th>\n",
       "      <th>dir</th>\n",
       "      <th>event</th>\n",
       "    </tr>\n",
       "  </thead>\n",
       "  <tbody>\n",
       "    <tr>\n",
       "      <th>203280</th>\n",
       "      <td>2022100201</td>\n",
       "      <td>778</td>\n",
       "      <td>44903</td>\n",
       "      <td>John Johnson</td>\n",
       "      <td>62</td>\n",
       "      <td>2022-10-02 13:28:19.099999</td>\n",
       "      <td>43</td>\n",
       "      <td>CLE</td>\n",
       "      <td>right</td>\n",
       "      <td>110.12</td>\n",
       "      <td>46.41</td>\n",
       "      <td>7.07</td>\n",
       "      <td>2.18</td>\n",
       "      <td>0.72</td>\n",
       "      <td>7.92</td>\n",
       "      <td>19.73</td>\n",
       "      <td>touchdown</td>\n",
       "    </tr>\n",
       "    <tr>\n",
       "      <th>203346</th>\n",
       "      <td>2022100201</td>\n",
       "      <td>778</td>\n",
       "      <td>45038</td>\n",
       "      <td>Isaac Rochell</td>\n",
       "      <td>62</td>\n",
       "      <td>2022-10-02 13:28:19.099999</td>\n",
       "      <td>98</td>\n",
       "      <td>CLE</td>\n",
       "      <td>right</td>\n",
       "      <td>106.63</td>\n",
       "      <td>44.15</td>\n",
       "      <td>5.75</td>\n",
       "      <td>2.81</td>\n",
       "      <td>0.60</td>\n",
       "      <td>31.47</td>\n",
       "      <td>46.90</td>\n",
       "      <td>touchdown</td>\n",
       "    </tr>\n",
       "    <tr>\n",
       "      <th>203478</th>\n",
       "      <td>2022100201</td>\n",
       "      <td>778</td>\n",
       "      <td>46073</td>\n",
       "      <td>Denzel Ward</td>\n",
       "      <td>62</td>\n",
       "      <td>2022-10-02 13:28:19.099999</td>\n",
       "      <td>21</td>\n",
       "      <td>CLE</td>\n",
       "      <td>right</td>\n",
       "      <td>107.70</td>\n",
       "      <td>51.53</td>\n",
       "      <td>7.73</td>\n",
       "      <td>3.34</td>\n",
       "      <td>0.78</td>\n",
       "      <td>39.15</td>\n",
       "      <td>40.90</td>\n",
       "      <td>touchdown</td>\n",
       "    </tr>\n",
       "    <tr>\n",
       "      <th>203742</th>\n",
       "      <td>2022100201</td>\n",
       "      <td>778</td>\n",
       "      <td>47863</td>\n",
       "      <td>Sione Takitaki</td>\n",
       "      <td>62</td>\n",
       "      <td>2022-10-02 13:28:19.099999</td>\n",
       "      <td>44</td>\n",
       "      <td>CLE</td>\n",
       "      <td>right</td>\n",
       "      <td>107.19</td>\n",
       "      <td>29.84</td>\n",
       "      <td>0.37</td>\n",
       "      <td>0.23</td>\n",
       "      <td>0.04</td>\n",
       "      <td>12.63</td>\n",
       "      <td>2.99</td>\n",
       "      <td>touchdown</td>\n",
       "    </tr>\n",
       "    <tr>\n",
       "      <th>203874</th>\n",
       "      <td>2022100201</td>\n",
       "      <td>778</td>\n",
       "      <td>52452</td>\n",
       "      <td>Grant Delpit</td>\n",
       "      <td>62</td>\n",
       "      <td>2022-10-02 13:28:19.099999</td>\n",
       "      <td>22</td>\n",
       "      <td>CLE</td>\n",
       "      <td>right</td>\n",
       "      <td>108.61</td>\n",
       "      <td>44.90</td>\n",
       "      <td>6.73</td>\n",
       "      <td>2.07</td>\n",
       "      <td>0.68</td>\n",
       "      <td>20.78</td>\n",
       "      <td>24.19</td>\n",
       "      <td>touchdown</td>\n",
       "    </tr>\n",
       "  </tbody>\n",
       "</table>\n",
       "</div>"
      ],
      "text/plain": [
       "            gameId  playId  nflId     displayName  frameId  \\\n",
       "203280  2022100201     778  44903    John Johnson       62   \n",
       "203346  2022100201     778  45038   Isaac Rochell       62   \n",
       "203478  2022100201     778  46073     Denzel Ward       62   \n",
       "203742  2022100201     778  47863  Sione Takitaki       62   \n",
       "203874  2022100201     778  52452    Grant Delpit       62   \n",
       "\n",
       "                              time  jerseyNumber club playDirection       x  \\\n",
       "203280  2022-10-02 13:28:19.099999            43  CLE         right  110.12   \n",
       "203346  2022-10-02 13:28:19.099999            98  CLE         right  106.63   \n",
       "203478  2022-10-02 13:28:19.099999            21  CLE         right  107.70   \n",
       "203742  2022-10-02 13:28:19.099999            44  CLE         right  107.19   \n",
       "203874  2022-10-02 13:28:19.099999            22  CLE         right  108.61   \n",
       "\n",
       "            y     s     a   dis      o    dir      event  \n",
       "203280  46.41  7.07  2.18  0.72   7.92  19.73  touchdown  \n",
       "203346  44.15  5.75  2.81  0.60  31.47  46.90  touchdown  \n",
       "203478  51.53  7.73  3.34  0.78  39.15  40.90  touchdown  \n",
       "203742  29.84  0.37  0.23  0.04  12.63   2.99  touchdown  \n",
       "203874  44.90  6.73  2.07  0.68  20.78  24.19  touchdown  "
      ]
     },
     "execution_count": 8,
     "metadata": {},
     "output_type": "execute_result"
    }
   ],
   "source": [
    "#1012 touchdowns for week 1 seemed like a lot, so I looked at my favorite team, and found that each player on the field\n",
    "#for the team that scored has 'event' equal to touchdown, makes more sense\n",
    "TD_cle_df = week_df.loc[(week_df['event'] == 'touchdown') & (week_df['club'] == 'CLE')]\n",
    "TD_cle_df.head()"
   ]
  },
  {
   "cell_type": "code",
   "execution_count": 9,
   "id": "097f28ce-f53c-41d4-9852-50bc2d09b4b3",
   "metadata": {},
   "outputs": [
    {
     "data": {
      "text/html": [
       "<div>\n",
       "<style scoped>\n",
       "    .dataframe tbody tr th:only-of-type {\n",
       "        vertical-align: middle;\n",
       "    }\n",
       "\n",
       "    .dataframe tbody tr th {\n",
       "        vertical-align: top;\n",
       "    }\n",
       "\n",
       "    .dataframe thead th {\n",
       "        text-align: right;\n",
       "    }\n",
       "</style>\n",
       "<table border=\"1\" class=\"dataframe\">\n",
       "  <thead>\n",
       "    <tr style=\"text-align: right;\">\n",
       "      <th></th>\n",
       "      <th>gameId</th>\n",
       "      <th>playId</th>\n",
       "      <th>nflId</th>\n",
       "      <th>displayName</th>\n",
       "      <th>frameId</th>\n",
       "      <th>time</th>\n",
       "      <th>jerseyNumber</th>\n",
       "      <th>club</th>\n",
       "      <th>playDirection</th>\n",
       "      <th>x</th>\n",
       "      <th>y</th>\n",
       "      <th>s</th>\n",
       "      <th>a</th>\n",
       "      <th>dis</th>\n",
       "      <th>o</th>\n",
       "      <th>dir</th>\n",
       "      <th>event</th>\n",
       "    </tr>\n",
       "  </thead>\n",
       "  <tbody>\n",
       "    <tr>\n",
       "      <th>263465</th>\n",
       "      <td>2022100201</td>\n",
       "      <td>2864</td>\n",
       "      <td>41264</td>\n",
       "      <td>Joel Bitonio</td>\n",
       "      <td>1</td>\n",
       "      <td>2022-10-02 15:17:43.200000</td>\n",
       "      <td>75</td>\n",
       "      <td>CLE</td>\n",
       "      <td>left</td>\n",
       "      <td>39.31</td>\n",
       "      <td>28.0</td>\n",
       "      <td>0.00</td>\n",
       "      <td>0.00</td>\n",
       "      <td>0.00</td>\n",
       "      <td>269.96</td>\n",
       "      <td>236.98</td>\n",
       "      <td>NaN</td>\n",
       "    </tr>\n",
       "    <tr>\n",
       "      <th>263466</th>\n",
       "      <td>2022100201</td>\n",
       "      <td>2864</td>\n",
       "      <td>41264</td>\n",
       "      <td>Joel Bitonio</td>\n",
       "      <td>2</td>\n",
       "      <td>2022-10-02 15:17:43.299999</td>\n",
       "      <td>75</td>\n",
       "      <td>CLE</td>\n",
       "      <td>left</td>\n",
       "      <td>39.31</td>\n",
       "      <td>28.0</td>\n",
       "      <td>0.00</td>\n",
       "      <td>0.00</td>\n",
       "      <td>0.00</td>\n",
       "      <td>269.06</td>\n",
       "      <td>246.48</td>\n",
       "      <td>man_in_motion</td>\n",
       "    </tr>\n",
       "    <tr>\n",
       "      <th>263467</th>\n",
       "      <td>2022100201</td>\n",
       "      <td>2864</td>\n",
       "      <td>41264</td>\n",
       "      <td>Joel Bitonio</td>\n",
       "      <td>3</td>\n",
       "      <td>2022-10-02 15:17:43.400000</td>\n",
       "      <td>75</td>\n",
       "      <td>CLE</td>\n",
       "      <td>left</td>\n",
       "      <td>39.31</td>\n",
       "      <td>28.0</td>\n",
       "      <td>0.01</td>\n",
       "      <td>0.22</td>\n",
       "      <td>0.00</td>\n",
       "      <td>268.19</td>\n",
       "      <td>304.38</td>\n",
       "      <td>NaN</td>\n",
       "    </tr>\n",
       "    <tr>\n",
       "      <th>263468</th>\n",
       "      <td>2022100201</td>\n",
       "      <td>2864</td>\n",
       "      <td>41264</td>\n",
       "      <td>Joel Bitonio</td>\n",
       "      <td>4</td>\n",
       "      <td>2022-10-02 15:17:43.500000</td>\n",
       "      <td>75</td>\n",
       "      <td>CLE</td>\n",
       "      <td>left</td>\n",
       "      <td>39.30</td>\n",
       "      <td>28.0</td>\n",
       "      <td>0.05</td>\n",
       "      <td>0.44</td>\n",
       "      <td>0.00</td>\n",
       "      <td>267.27</td>\n",
       "      <td>299.25</td>\n",
       "      <td>NaN</td>\n",
       "    </tr>\n",
       "    <tr>\n",
       "      <th>263469</th>\n",
       "      <td>2022100201</td>\n",
       "      <td>2864</td>\n",
       "      <td>41264</td>\n",
       "      <td>Joel Bitonio</td>\n",
       "      <td>5</td>\n",
       "      <td>2022-10-02 15:17:43.599999</td>\n",
       "      <td>75</td>\n",
       "      <td>CLE</td>\n",
       "      <td>left</td>\n",
       "      <td>39.30</td>\n",
       "      <td>28.0</td>\n",
       "      <td>0.09</td>\n",
       "      <td>0.44</td>\n",
       "      <td>0.01</td>\n",
       "      <td>266.46</td>\n",
       "      <td>283.72</td>\n",
       "      <td>NaN</td>\n",
       "    </tr>\n",
       "  </tbody>\n",
       "</table>\n",
       "</div>"
      ],
      "text/plain": [
       "            gameId  playId  nflId   displayName  frameId  \\\n",
       "263465  2022100201    2864  41264  Joel Bitonio        1   \n",
       "263466  2022100201    2864  41264  Joel Bitonio        2   \n",
       "263467  2022100201    2864  41264  Joel Bitonio        3   \n",
       "263468  2022100201    2864  41264  Joel Bitonio        4   \n",
       "263469  2022100201    2864  41264  Joel Bitonio        5   \n",
       "\n",
       "                              time  jerseyNumber club playDirection      x  \\\n",
       "263465  2022-10-02 15:17:43.200000            75  CLE          left  39.31   \n",
       "263466  2022-10-02 15:17:43.299999            75  CLE          left  39.31   \n",
       "263467  2022-10-02 15:17:43.400000            75  CLE          left  39.31   \n",
       "263468  2022-10-02 15:17:43.500000            75  CLE          left  39.30   \n",
       "263469  2022-10-02 15:17:43.599999            75  CLE          left  39.30   \n",
       "\n",
       "           y     s     a   dis       o     dir          event  \n",
       "263465  28.0  0.00  0.00  0.00  269.96  236.98            NaN  \n",
       "263466  28.0  0.00  0.00  0.00  269.06  246.48  man_in_motion  \n",
       "263467  28.0  0.01  0.22  0.00  268.19  304.38            NaN  \n",
       "263468  28.0  0.05  0.44  0.00  267.27  299.25            NaN  \n",
       "263469  28.0  0.09  0.44  0.01  266.46  283.72            NaN  "
      ]
     },
     "execution_count": 9,
     "metadata": {},
     "output_type": "execute_result"
    }
   ],
   "source": [
    "#looked up Chubb's run on the internet to get the playclock and quarter time,\n",
    "chubb_run_df = week_df[week_df['playId'] == 2864]\n",
    "chubb_run_df.head()"
   ]
  },
  {
   "cell_type": "code",
   "execution_count": 10,
   "id": "da396cb4-5039-4609-847d-7687edf467f5",
   "metadata": {},
   "outputs": [
    {
     "data": {
      "text/html": [
       "<div>\n",
       "<style scoped>\n",
       "    .dataframe tbody tr th:only-of-type {\n",
       "        vertical-align: middle;\n",
       "    }\n",
       "\n",
       "    .dataframe tbody tr th {\n",
       "        vertical-align: top;\n",
       "    }\n",
       "\n",
       "    .dataframe thead th {\n",
       "        text-align: right;\n",
       "    }\n",
       "</style>\n",
       "<table border=\"1\" class=\"dataframe\">\n",
       "  <thead>\n",
       "    <tr style=\"text-align: right;\">\n",
       "      <th></th>\n",
       "      <th>gameId</th>\n",
       "      <th>playId</th>\n",
       "      <th>nflId</th>\n",
       "      <th>displayName</th>\n",
       "      <th>frameId</th>\n",
       "      <th>time</th>\n",
       "      <th>jerseyNumber</th>\n",
       "      <th>club</th>\n",
       "      <th>playDirection</th>\n",
       "      <th>x</th>\n",
       "      <th>y</th>\n",
       "      <th>s</th>\n",
       "      <th>a</th>\n",
       "      <th>dis</th>\n",
       "      <th>o</th>\n",
       "      <th>dir</th>\n",
       "      <th>event</th>\n",
       "    </tr>\n",
       "  </thead>\n",
       "  <tbody>\n",
       "    <tr>\n",
       "      <th>263465</th>\n",
       "      <td>2022100201</td>\n",
       "      <td>2864</td>\n",
       "      <td>41264</td>\n",
       "      <td>Joel Bitonio</td>\n",
       "      <td>1</td>\n",
       "      <td>2022-10-02 15:17:43.200000</td>\n",
       "      <td>75</td>\n",
       "      <td>CLE</td>\n",
       "      <td>left</td>\n",
       "      <td>39.31</td>\n",
       "      <td>28.0</td>\n",
       "      <td>0.00</td>\n",
       "      <td>0.00</td>\n",
       "      <td>0.00</td>\n",
       "      <td>269.96</td>\n",
       "      <td>236.98</td>\n",
       "      <td>NaN</td>\n",
       "    </tr>\n",
       "    <tr>\n",
       "      <th>263466</th>\n",
       "      <td>2022100201</td>\n",
       "      <td>2864</td>\n",
       "      <td>41264</td>\n",
       "      <td>Joel Bitonio</td>\n",
       "      <td>2</td>\n",
       "      <td>2022-10-02 15:17:43.299999</td>\n",
       "      <td>75</td>\n",
       "      <td>CLE</td>\n",
       "      <td>left</td>\n",
       "      <td>39.31</td>\n",
       "      <td>28.0</td>\n",
       "      <td>0.00</td>\n",
       "      <td>0.00</td>\n",
       "      <td>0.00</td>\n",
       "      <td>269.06</td>\n",
       "      <td>246.48</td>\n",
       "      <td>man_in_motion</td>\n",
       "    </tr>\n",
       "    <tr>\n",
       "      <th>263467</th>\n",
       "      <td>2022100201</td>\n",
       "      <td>2864</td>\n",
       "      <td>41264</td>\n",
       "      <td>Joel Bitonio</td>\n",
       "      <td>3</td>\n",
       "      <td>2022-10-02 15:17:43.400000</td>\n",
       "      <td>75</td>\n",
       "      <td>CLE</td>\n",
       "      <td>left</td>\n",
       "      <td>39.31</td>\n",
       "      <td>28.0</td>\n",
       "      <td>0.01</td>\n",
       "      <td>0.22</td>\n",
       "      <td>0.00</td>\n",
       "      <td>268.19</td>\n",
       "      <td>304.38</td>\n",
       "      <td>NaN</td>\n",
       "    </tr>\n",
       "    <tr>\n",
       "      <th>263468</th>\n",
       "      <td>2022100201</td>\n",
       "      <td>2864</td>\n",
       "      <td>41264</td>\n",
       "      <td>Joel Bitonio</td>\n",
       "      <td>4</td>\n",
       "      <td>2022-10-02 15:17:43.500000</td>\n",
       "      <td>75</td>\n",
       "      <td>CLE</td>\n",
       "      <td>left</td>\n",
       "      <td>39.30</td>\n",
       "      <td>28.0</td>\n",
       "      <td>0.05</td>\n",
       "      <td>0.44</td>\n",
       "      <td>0.00</td>\n",
       "      <td>267.27</td>\n",
       "      <td>299.25</td>\n",
       "      <td>NaN</td>\n",
       "    </tr>\n",
       "    <tr>\n",
       "      <th>263469</th>\n",
       "      <td>2022100201</td>\n",
       "      <td>2864</td>\n",
       "      <td>41264</td>\n",
       "      <td>Joel Bitonio</td>\n",
       "      <td>5</td>\n",
       "      <td>2022-10-02 15:17:43.599999</td>\n",
       "      <td>75</td>\n",
       "      <td>CLE</td>\n",
       "      <td>left</td>\n",
       "      <td>39.30</td>\n",
       "      <td>28.0</td>\n",
       "      <td>0.09</td>\n",
       "      <td>0.44</td>\n",
       "      <td>0.01</td>\n",
       "      <td>266.46</td>\n",
       "      <td>283.72</td>\n",
       "      <td>NaN</td>\n",
       "    </tr>\n",
       "  </tbody>\n",
       "</table>\n",
       "</div>"
      ],
      "text/plain": [
       "            gameId  playId  nflId   displayName  frameId  \\\n",
       "263465  2022100201    2864  41264  Joel Bitonio        1   \n",
       "263466  2022100201    2864  41264  Joel Bitonio        2   \n",
       "263467  2022100201    2864  41264  Joel Bitonio        3   \n",
       "263468  2022100201    2864  41264  Joel Bitonio        4   \n",
       "263469  2022100201    2864  41264  Joel Bitonio        5   \n",
       "\n",
       "                              time  jerseyNumber club playDirection      x  \\\n",
       "263465  2022-10-02 15:17:43.200000            75  CLE          left  39.31   \n",
       "263466  2022-10-02 15:17:43.299999            75  CLE          left  39.31   \n",
       "263467  2022-10-02 15:17:43.400000            75  CLE          left  39.31   \n",
       "263468  2022-10-02 15:17:43.500000            75  CLE          left  39.30   \n",
       "263469  2022-10-02 15:17:43.599999            75  CLE          left  39.30   \n",
       "\n",
       "           y     s     a   dis       o     dir          event  \n",
       "263465  28.0  0.00  0.00  0.00  269.96  236.98            NaN  \n",
       "263466  28.0  0.00  0.00  0.00  269.06  246.48  man_in_motion  \n",
       "263467  28.0  0.01  0.22  0.00  268.19  304.38            NaN  \n",
       "263468  28.0  0.05  0.44  0.00  267.27  299.25            NaN  \n",
       "263469  28.0  0.09  0.44  0.01  266.46  283.72            NaN  "
      ]
     },
     "execution_count": 10,
     "metadata": {},
     "output_type": "execute_result"
    }
   ],
   "source": [
    "chubb_run_cle_players_df = chubb_run_df.loc[chubb_run_df['club'] == 'CLE']\n",
    "chubb_run_cle_players_df.head()"
   ]
  },
  {
   "cell_type": "code",
   "execution_count": 11,
   "id": "5398c721-9c34-4748-8a5a-26cde666084d",
   "metadata": {},
   "outputs": [
    {
     "data": {
      "text/html": [
       "<div>\n",
       "<style scoped>\n",
       "    .dataframe tbody tr th:only-of-type {\n",
       "        vertical-align: middle;\n",
       "    }\n",
       "\n",
       "    .dataframe tbody tr th {\n",
       "        vertical-align: top;\n",
       "    }\n",
       "\n",
       "    .dataframe thead th {\n",
       "        text-align: right;\n",
       "    }\n",
       "</style>\n",
       "<table border=\"1\" class=\"dataframe\">\n",
       "  <thead>\n",
       "    <tr style=\"text-align: right;\">\n",
       "      <th></th>\n",
       "      <th>gameId</th>\n",
       "      <th>playId</th>\n",
       "      <th>nflId</th>\n",
       "      <th>displayName</th>\n",
       "      <th>frameId</th>\n",
       "      <th>time</th>\n",
       "      <th>jerseyNumber</th>\n",
       "      <th>club</th>\n",
       "      <th>playDirection</th>\n",
       "      <th>x</th>\n",
       "      <th>y</th>\n",
       "      <th>s</th>\n",
       "      <th>a</th>\n",
       "      <th>dis</th>\n",
       "      <th>o</th>\n",
       "      <th>dir</th>\n",
       "      <th>event</th>\n",
       "    </tr>\n",
       "  </thead>\n",
       "  <tbody>\n",
       "    <tr>\n",
       "      <th>263543</th>\n",
       "      <td>2022100201</td>\n",
       "      <td>2864</td>\n",
       "      <td>42480</td>\n",
       "      <td>Grady Jarrett</td>\n",
       "      <td>1</td>\n",
       "      <td>2022-10-02 15:17:43.200000</td>\n",
       "      <td>97</td>\n",
       "      <td>ATL</td>\n",
       "      <td>left</td>\n",
       "      <td>37.17</td>\n",
       "      <td>30.04</td>\n",
       "      <td>0.22</td>\n",
       "      <td>0.68</td>\n",
       "      <td>0.02</td>\n",
       "      <td>71.30</td>\n",
       "      <td>132.68</td>\n",
       "      <td>NaN</td>\n",
       "    </tr>\n",
       "    <tr>\n",
       "      <th>263544</th>\n",
       "      <td>2022100201</td>\n",
       "      <td>2864</td>\n",
       "      <td>42480</td>\n",
       "      <td>Grady Jarrett</td>\n",
       "      <td>2</td>\n",
       "      <td>2022-10-02 15:17:43.299999</td>\n",
       "      <td>97</td>\n",
       "      <td>ATL</td>\n",
       "      <td>left</td>\n",
       "      <td>37.19</td>\n",
       "      <td>30.02</td>\n",
       "      <td>0.33</td>\n",
       "      <td>0.68</td>\n",
       "      <td>0.03</td>\n",
       "      <td>71.30</td>\n",
       "      <td>141.13</td>\n",
       "      <td>man_in_motion</td>\n",
       "    </tr>\n",
       "    <tr>\n",
       "      <th>263545</th>\n",
       "      <td>2022100201</td>\n",
       "      <td>2864</td>\n",
       "      <td>42480</td>\n",
       "      <td>Grady Jarrett</td>\n",
       "      <td>3</td>\n",
       "      <td>2022-10-02 15:17:43.400000</td>\n",
       "      <td>97</td>\n",
       "      <td>ATL</td>\n",
       "      <td>left</td>\n",
       "      <td>37.21</td>\n",
       "      <td>29.98</td>\n",
       "      <td>0.46</td>\n",
       "      <td>0.72</td>\n",
       "      <td>0.05</td>\n",
       "      <td>74.25</td>\n",
       "      <td>143.55</td>\n",
       "      <td>NaN</td>\n",
       "    </tr>\n",
       "    <tr>\n",
       "      <th>263546</th>\n",
       "      <td>2022100201</td>\n",
       "      <td>2864</td>\n",
       "      <td>42480</td>\n",
       "      <td>Grady Jarrett</td>\n",
       "      <td>4</td>\n",
       "      <td>2022-10-02 15:17:43.500000</td>\n",
       "      <td>97</td>\n",
       "      <td>ATL</td>\n",
       "      <td>left</td>\n",
       "      <td>37.25</td>\n",
       "      <td>29.92</td>\n",
       "      <td>0.61</td>\n",
       "      <td>0.80</td>\n",
       "      <td>0.06</td>\n",
       "      <td>76.44</td>\n",
       "      <td>147.76</td>\n",
       "      <td>NaN</td>\n",
       "    </tr>\n",
       "    <tr>\n",
       "      <th>263547</th>\n",
       "      <td>2022100201</td>\n",
       "      <td>2864</td>\n",
       "      <td>42480</td>\n",
       "      <td>Grady Jarrett</td>\n",
       "      <td>5</td>\n",
       "      <td>2022-10-02 15:17:43.599999</td>\n",
       "      <td>97</td>\n",
       "      <td>ATL</td>\n",
       "      <td>left</td>\n",
       "      <td>37.29</td>\n",
       "      <td>29.85</td>\n",
       "      <td>0.78</td>\n",
       "      <td>0.84</td>\n",
       "      <td>0.08</td>\n",
       "      <td>78.66</td>\n",
       "      <td>148.47</td>\n",
       "      <td>NaN</td>\n",
       "    </tr>\n",
       "  </tbody>\n",
       "</table>\n",
       "</div>"
      ],
      "text/plain": [
       "            gameId  playId  nflId    displayName  frameId  \\\n",
       "263543  2022100201    2864  42480  Grady Jarrett        1   \n",
       "263544  2022100201    2864  42480  Grady Jarrett        2   \n",
       "263545  2022100201    2864  42480  Grady Jarrett        3   \n",
       "263546  2022100201    2864  42480  Grady Jarrett        4   \n",
       "263547  2022100201    2864  42480  Grady Jarrett        5   \n",
       "\n",
       "                              time  jerseyNumber club playDirection      x  \\\n",
       "263543  2022-10-02 15:17:43.200000            97  ATL          left  37.17   \n",
       "263544  2022-10-02 15:17:43.299999            97  ATL          left  37.19   \n",
       "263545  2022-10-02 15:17:43.400000            97  ATL          left  37.21   \n",
       "263546  2022-10-02 15:17:43.500000            97  ATL          left  37.25   \n",
       "263547  2022-10-02 15:17:43.599999            97  ATL          left  37.29   \n",
       "\n",
       "            y     s     a   dis      o     dir          event  \n",
       "263543  30.04  0.22  0.68  0.02  71.30  132.68            NaN  \n",
       "263544  30.02  0.33  0.68  0.03  71.30  141.13  man_in_motion  \n",
       "263545  29.98  0.46  0.72  0.05  74.25  143.55            NaN  \n",
       "263546  29.92  0.61  0.80  0.06  76.44  147.76            NaN  \n",
       "263547  29.85  0.78  0.84  0.08  78.66  148.47            NaN  "
      ]
     },
     "execution_count": 11,
     "metadata": {},
     "output_type": "execute_result"
    }
   ],
   "source": [
    "chubb_run_atl_players_df = chubb_run_df.loc[chubb_run_df['club'] == 'ATL']\n",
    "chubb_run_atl_players_df.head()"
   ]
  },
  {
   "cell_type": "code",
   "execution_count": 12,
   "id": "efa46f86-6794-4d8f-9ae1-c46ae7cf4c35",
   "metadata": {},
   "outputs": [
    {
     "data": {
      "text/html": [
       "<div>\n",
       "<style scoped>\n",
       "    .dataframe tbody tr th:only-of-type {\n",
       "        vertical-align: middle;\n",
       "    }\n",
       "\n",
       "    .dataframe tbody tr th {\n",
       "        vertical-align: top;\n",
       "    }\n",
       "\n",
       "    .dataframe thead th {\n",
       "        text-align: right;\n",
       "    }\n",
       "</style>\n",
       "<table border=\"1\" class=\"dataframe\">\n",
       "  <thead>\n",
       "    <tr style=\"text-align: right;\">\n",
       "      <th></th>\n",
       "      <th>gameId</th>\n",
       "      <th>playId</th>\n",
       "      <th>nflId</th>\n",
       "      <th>displayName</th>\n",
       "      <th>frameId</th>\n",
       "      <th>time</th>\n",
       "      <th>jerseyNumber</th>\n",
       "      <th>club</th>\n",
       "      <th>playDirection</th>\n",
       "      <th>x</th>\n",
       "      <th>y</th>\n",
       "      <th>s</th>\n",
       "      <th>a</th>\n",
       "      <th>dis</th>\n",
       "      <th>o</th>\n",
       "      <th>dir</th>\n",
       "      <th>event</th>\n",
       "    </tr>\n",
       "  </thead>\n",
       "  <tbody>\n",
       "    <tr>\n",
       "      <th>263465</th>\n",
       "      <td>2022100201</td>\n",
       "      <td>2864</td>\n",
       "      <td>41264</td>\n",
       "      <td>Joel Bitonio</td>\n",
       "      <td>1</td>\n",
       "      <td>2022-10-02 15:17:43.200000</td>\n",
       "      <td>75</td>\n",
       "      <td>CLE</td>\n",
       "      <td>left</td>\n",
       "      <td>39.31</td>\n",
       "      <td>28.00</td>\n",
       "      <td>0.00</td>\n",
       "      <td>0.00</td>\n",
       "      <td>0.00</td>\n",
       "      <td>269.96</td>\n",
       "      <td>236.98</td>\n",
       "      <td>NaN</td>\n",
       "    </tr>\n",
       "    <tr>\n",
       "      <th>263543</th>\n",
       "      <td>2022100201</td>\n",
       "      <td>2864</td>\n",
       "      <td>42480</td>\n",
       "      <td>Grady Jarrett</td>\n",
       "      <td>1</td>\n",
       "      <td>2022-10-02 15:17:43.200000</td>\n",
       "      <td>97</td>\n",
       "      <td>ATL</td>\n",
       "      <td>left</td>\n",
       "      <td>37.17</td>\n",
       "      <td>30.04</td>\n",
       "      <td>0.22</td>\n",
       "      <td>0.68</td>\n",
       "      <td>0.02</td>\n",
       "      <td>71.30</td>\n",
       "      <td>132.68</td>\n",
       "      <td>NaN</td>\n",
       "    </tr>\n",
       "    <tr>\n",
       "      <th>263621</th>\n",
       "      <td>2022100201</td>\n",
       "      <td>2864</td>\n",
       "      <td>43297</td>\n",
       "      <td>Jack Conklin</td>\n",
       "      <td>1</td>\n",
       "      <td>2022-10-02 15:17:43.200000</td>\n",
       "      <td>78</td>\n",
       "      <td>CLE</td>\n",
       "      <td>left</td>\n",
       "      <td>39.17</td>\n",
       "      <td>32.84</td>\n",
       "      <td>0.00</td>\n",
       "      <td>0.00</td>\n",
       "      <td>0.00</td>\n",
       "      <td>236.72</td>\n",
       "      <td>175.35</td>\n",
       "      <td>NaN</td>\n",
       "    </tr>\n",
       "    <tr>\n",
       "      <th>263699</th>\n",
       "      <td>2022100201</td>\n",
       "      <td>2864</td>\n",
       "      <td>43380</td>\n",
       "      <td>Jacoby Brissett</td>\n",
       "      <td>1</td>\n",
       "      <td>2022-10-02 15:17:43.200000</td>\n",
       "      <td>7</td>\n",
       "      <td>CLE</td>\n",
       "      <td>left</td>\n",
       "      <td>39.61</td>\n",
       "      <td>29.60</td>\n",
       "      <td>0.00</td>\n",
       "      <td>0.00</td>\n",
       "      <td>0.00</td>\n",
       "      <td>272.57</td>\n",
       "      <td>78.55</td>\n",
       "      <td>NaN</td>\n",
       "    </tr>\n",
       "    <tr>\n",
       "      <th>263777</th>\n",
       "      <td>2022100201</td>\n",
       "      <td>2864</td>\n",
       "      <td>44841</td>\n",
       "      <td>David Njoku</td>\n",
       "      <td>1</td>\n",
       "      <td>2022-10-02 15:17:43.200000</td>\n",
       "      <td>85</td>\n",
       "      <td>CLE</td>\n",
       "      <td>left</td>\n",
       "      <td>38.91</td>\n",
       "      <td>34.80</td>\n",
       "      <td>0.00</td>\n",
       "      <td>0.00</td>\n",
       "      <td>0.01</td>\n",
       "      <td>269.99</td>\n",
       "      <td>287.10</td>\n",
       "      <td>NaN</td>\n",
       "    </tr>\n",
       "  </tbody>\n",
       "</table>\n",
       "</div>"
      ],
      "text/plain": [
       "            gameId  playId  nflId      displayName  frameId  \\\n",
       "263465  2022100201    2864  41264     Joel Bitonio        1   \n",
       "263543  2022100201    2864  42480    Grady Jarrett        1   \n",
       "263621  2022100201    2864  43297     Jack Conklin        1   \n",
       "263699  2022100201    2864  43380  Jacoby Brissett        1   \n",
       "263777  2022100201    2864  44841      David Njoku        1   \n",
       "\n",
       "                              time  jerseyNumber club playDirection      x  \\\n",
       "263465  2022-10-02 15:17:43.200000            75  CLE          left  39.31   \n",
       "263543  2022-10-02 15:17:43.200000            97  ATL          left  37.17   \n",
       "263621  2022-10-02 15:17:43.200000            78  CLE          left  39.17   \n",
       "263699  2022-10-02 15:17:43.200000             7  CLE          left  39.61   \n",
       "263777  2022-10-02 15:17:43.200000            85  CLE          left  38.91   \n",
       "\n",
       "            y     s     a   dis       o     dir event  \n",
       "263465  28.00  0.00  0.00  0.00  269.96  236.98   NaN  \n",
       "263543  30.04  0.22  0.68  0.02   71.30  132.68   NaN  \n",
       "263621  32.84  0.00  0.00  0.00  236.72  175.35   NaN  \n",
       "263699  29.60  0.00  0.00  0.00  272.57   78.55   NaN  \n",
       "263777  34.80  0.00  0.00  0.01  269.99  287.10   NaN  "
      ]
     },
     "execution_count": 12,
     "metadata": {},
     "output_type": "execute_result"
    }
   ],
   "source": [
    "chubb_run_frame_1=chubb_run_df.loc[chubb_run_df['frameId'] == 1]\n",
    "chubb_run_frame_1.head()"
   ]
  },
  {
   "cell_type": "code",
   "execution_count": 5,
   "id": "32c75005-f49e-4d9a-b807-a8393b0603ec",
   "metadata": {},
   "outputs": [
    {
     "ename": "NameError",
     "evalue": "name 'chubb_run_frame_1' is not defined",
     "output_type": "error",
     "traceback": [
      "\u001b[0;31m---------------------------------------------------------------------------\u001b[0m",
      "\u001b[0;31mNameError\u001b[0m                                 Traceback (most recent call last)",
      "Cell \u001b[0;32mIn[5], line 1\u001b[0m\n\u001b[0;32m----> 1\u001b[0m chubb_run_frame_1_xy \u001b[38;5;241m=\u001b[39m \u001b[43mchubb_run_frame_1\u001b[49m[[\u001b[38;5;124m'\u001b[39m\u001b[38;5;124mdisplayName\u001b[39m\u001b[38;5;124m'\u001b[39m,\u001b[38;5;124m'\u001b[39m\u001b[38;5;124mjerseyNumber\u001b[39m\u001b[38;5;124m'\u001b[39m,\u001b[38;5;124m'\u001b[39m\u001b[38;5;124mclub\u001b[39m\u001b[38;5;124m'\u001b[39m,\u001b[38;5;124m'\u001b[39m\u001b[38;5;124mx\u001b[39m\u001b[38;5;124m'\u001b[39m,\u001b[38;5;124m'\u001b[39m\u001b[38;5;124my\u001b[39m\u001b[38;5;124m'\u001b[39m]]\n\u001b[1;32m      2\u001b[0m chubb_run_frame_1_xy\u001b[38;5;241m.\u001b[39mreset_index()\n\u001b[1;32m      3\u001b[0m get_ipython()\u001b[38;5;241m.\u001b[39mrun_line_magic(\u001b[38;5;124m'\u001b[39m\u001b[38;5;124mlux\u001b[39m\u001b[38;5;124m'\u001b[39m, \u001b[38;5;124m'\u001b[39m\u001b[38;5;124mchubb_run_frame_1_xy.head()\u001b[39m\u001b[38;5;124m'\u001b[39m)\n",
      "\u001b[0;31mNameError\u001b[0m: name 'chubb_run_frame_1' is not defined"
     ]
    }
   ],
   "source": [
    "chubb_run_frame_1_xy = chubb_run_frame_1[['displayName','jerseyNumber','club','x','y']]\n",
    "chubb_run_frame_1_xy.reset_index()\n",
    "%lux chubb_run_frame_1_xy.head()"
   ]
  },
  {
   "cell_type": "code",
   "execution_count": 14,
   "id": "a3b389cf-1d5b-48d8-b6c4-90a4eb01eeda",
   "metadata": {},
   "outputs": [
    {
     "data": {
      "application/javascript": [
       "\n",
       "        if (window._pyforest_update_imports_cell) { window._pyforest_update_imports_cell('import matplotlib.pyplot as plt\\nimport pandas as pd'); }\n",
       "    "
      ],
      "text/plain": [
       "<IPython.core.display.Javascript object>"
      ]
     },
     "metadata": {},
     "output_type": "display_data"
    },
    {
     "data": {
      "application/javascript": [
       "\n",
       "        if (window._pyforest_update_imports_cell) { window._pyforest_update_imports_cell('import matplotlib.pyplot as plt\\nimport pandas as pd\\nimport numpy as np'); }\n",
       "    "
      ],
      "text/plain": [
       "<IPython.core.display.Javascript object>"
      ]
     },
     "metadata": {},
     "output_type": "display_data"
    },
    {
     "data": {
      "application/javascript": [
       "\n",
       "        if (window._pyforest_update_imports_cell) { window._pyforest_update_imports_cell('import matplotlib.pyplot as plt\\nimport pandas as pd\\nimport numpy as np'); }\n",
       "    "
      ],
      "text/plain": [
       "<IPython.core.display.Javascript object>"
      ]
     },
     "metadata": {},
     "output_type": "display_data"
    },
    {
     "data": {
      "application/javascript": [
       "\n",
       "        if (window._pyforest_update_imports_cell) { window._pyforest_update_imports_cell('import matplotlib.pyplot as plt\\nimport pandas as pd\\nimport numpy as np'); }\n",
       "    "
      ],
      "text/plain": [
       "<IPython.core.display.Javascript object>"
      ]
     },
     "metadata": {},
     "output_type": "display_data"
    },
    {
     "data": {
      "application/javascript": [
       "\n",
       "        if (window._pyforest_update_imports_cell) { window._pyforest_update_imports_cell('import matplotlib.pyplot as plt\\nimport pandas as pd\\nimport numpy as np'); }\n",
       "    "
      ],
      "text/plain": [
       "<IPython.core.display.Javascript object>"
      ]
     },
     "metadata": {},
     "output_type": "display_data"
    },
    {
     "data": {
      "application/javascript": [
       "\n",
       "        if (window._pyforest_update_imports_cell) { window._pyforest_update_imports_cell('import matplotlib.pyplot as plt\\nimport pandas as pd\\nimport numpy as np'); }\n",
       "    "
      ],
      "text/plain": [
       "<IPython.core.display.Javascript object>"
      ]
     },
     "metadata": {},
     "output_type": "display_data"
    },
    {
     "data": {
      "application/javascript": [
       "\n",
       "        if (window._pyforest_update_imports_cell) { window._pyforest_update_imports_cell('import matplotlib.pyplot as plt\\nimport pandas as pd\\nimport numpy as np'); }\n",
       "    "
      ],
      "text/plain": [
       "<IPython.core.display.Javascript object>"
      ]
     },
     "metadata": {},
     "output_type": "display_data"
    },
    {
     "data": {
      "application/javascript": [
       "\n",
       "        if (window._pyforest_update_imports_cell) { window._pyforest_update_imports_cell('import matplotlib.pyplot as plt\\nimport pandas as pd\\nimport numpy as np'); }\n",
       "    "
      ],
      "text/plain": [
       "<IPython.core.display.Javascript object>"
      ]
     },
     "metadata": {},
     "output_type": "display_data"
    },
    {
     "data": {
      "application/javascript": [
       "\n",
       "        if (window._pyforest_update_imports_cell) { window._pyforest_update_imports_cell('import matplotlib.pyplot as plt\\nimport pandas as pd\\nimport numpy as np'); }\n",
       "    "
      ],
      "text/plain": [
       "<IPython.core.display.Javascript object>"
      ]
     },
     "metadata": {},
     "output_type": "display_data"
    },
    {
     "data": {
      "application/javascript": [
       "\n",
       "        if (window._pyforest_update_imports_cell) { window._pyforest_update_imports_cell('import matplotlib.pyplot as plt\\nimport pandas as pd\\nimport numpy as np'); }\n",
       "    "
      ],
      "text/plain": [
       "<IPython.core.display.Javascript object>"
      ]
     },
     "metadata": {},
     "output_type": "display_data"
    },
    {
     "data": {
      "application/javascript": [
       "\n",
       "        if (window._pyforest_update_imports_cell) { window._pyforest_update_imports_cell('import matplotlib.pyplot as plt\\nimport pandas as pd\\nimport numpy as np'); }\n",
       "    "
      ],
      "text/plain": [
       "<IPython.core.display.Javascript object>"
      ]
     },
     "metadata": {},
     "output_type": "display_data"
    },
    {
     "data": {
      "application/javascript": [
       "\n",
       "        if (window._pyforest_update_imports_cell) { window._pyforest_update_imports_cell('import matplotlib.pyplot as plt\\nimport pandas as pd\\nimport numpy as np'); }\n",
       "    "
      ],
      "text/plain": [
       "<IPython.core.display.Javascript object>"
      ]
     },
     "metadata": {},
     "output_type": "display_data"
    },
    {
     "data": {
      "application/javascript": [
       "\n",
       "        if (window._pyforest_update_imports_cell) { window._pyforest_update_imports_cell('import matplotlib.pyplot as plt\\nimport pandas as pd\\nimport numpy as np'); }\n",
       "    "
      ],
      "text/plain": [
       "<IPython.core.display.Javascript object>"
      ]
     },
     "metadata": {},
     "output_type": "display_data"
    },
    {
     "data": {
      "application/javascript": [
       "\n",
       "        if (window._pyforest_update_imports_cell) { window._pyforest_update_imports_cell('import matplotlib.pyplot as plt\\nimport pandas as pd\\nimport numpy as np'); }\n",
       "    "
      ],
      "text/plain": [
       "<IPython.core.display.Javascript object>"
      ]
     },
     "metadata": {},
     "output_type": "display_data"
    },
    {
     "data": {
      "application/javascript": [
       "\n",
       "        if (window._pyforest_update_imports_cell) { window._pyforest_update_imports_cell('import matplotlib.pyplot as plt\\nimport pandas as pd\\nimport numpy as np'); }\n",
       "    "
      ],
      "text/plain": [
       "<IPython.core.display.Javascript object>"
      ]
     },
     "metadata": {},
     "output_type": "display_data"
    },
    {
     "data": {
      "application/javascript": [
       "\n",
       "        if (window._pyforest_update_imports_cell) { window._pyforest_update_imports_cell('import matplotlib.pyplot as plt\\nimport pandas as pd\\nimport numpy as np'); }\n",
       "    "
      ],
      "text/plain": [
       "<IPython.core.display.Javascript object>"
      ]
     },
     "metadata": {},
     "output_type": "display_data"
    },
    {
     "data": {
      "application/javascript": [
       "\n",
       "        if (window._pyforest_update_imports_cell) { window._pyforest_update_imports_cell('import matplotlib.pyplot as plt\\nimport pandas as pd\\nimport numpy as np'); }\n",
       "    "
      ],
      "text/plain": [
       "<IPython.core.display.Javascript object>"
      ]
     },
     "metadata": {},
     "output_type": "display_data"
    },
    {
     "data": {
      "application/javascript": [
       "\n",
       "        if (window._pyforest_update_imports_cell) { window._pyforest_update_imports_cell('import matplotlib.pyplot as plt\\nimport pandas as pd\\nimport numpy as np'); }\n",
       "    "
      ],
      "text/plain": [
       "<IPython.core.display.Javascript object>"
      ]
     },
     "metadata": {},
     "output_type": "display_data"
    },
    {
     "data": {
      "application/javascript": [
       "\n",
       "        if (window._pyforest_update_imports_cell) { window._pyforest_update_imports_cell('import matplotlib.pyplot as plt\\nimport pandas as pd\\nimport numpy as np'); }\n",
       "    "
      ],
      "text/plain": [
       "<IPython.core.display.Javascript object>"
      ]
     },
     "metadata": {},
     "output_type": "display_data"
    },
    {
     "data": {
      "application/javascript": [
       "\n",
       "        if (window._pyforest_update_imports_cell) { window._pyforest_update_imports_cell('import matplotlib.pyplot as plt\\nimport pandas as pd\\nimport numpy as np'); }\n",
       "    "
      ],
      "text/plain": [
       "<IPython.core.display.Javascript object>"
      ]
     },
     "metadata": {},
     "output_type": "display_data"
    },
    {
     "data": {
      "application/javascript": [
       "\n",
       "        if (window._pyforest_update_imports_cell) { window._pyforest_update_imports_cell('import matplotlib.pyplot as plt\\nimport pandas as pd\\nimport numpy as np'); }\n",
       "    "
      ],
      "text/plain": [
       "<IPython.core.display.Javascript object>"
      ]
     },
     "metadata": {},
     "output_type": "display_data"
    },
    {
     "data": {
      "application/javascript": [
       "\n",
       "        if (window._pyforest_update_imports_cell) { window._pyforest_update_imports_cell('import matplotlib.pyplot as plt\\nimport pandas as pd\\nimport numpy as np'); }\n",
       "    "
      ],
      "text/plain": [
       "<IPython.core.display.Javascript object>"
      ]
     },
     "metadata": {},
     "output_type": "display_data"
    },
    {
     "data": {
      "application/javascript": [
       "\n",
       "        if (window._pyforest_update_imports_cell) { window._pyforest_update_imports_cell('import matplotlib.pyplot as plt\\nimport pandas as pd\\nimport numpy as np'); }\n",
       "    "
      ],
      "text/plain": [
       "<IPython.core.display.Javascript object>"
      ]
     },
     "metadata": {},
     "output_type": "display_data"
    },
    {
     "data": {
      "application/javascript": [
       "\n",
       "        if (window._pyforest_update_imports_cell) { window._pyforest_update_imports_cell('import matplotlib.pyplot as plt\\nimport pandas as pd\\nimport numpy as np'); }\n",
       "    "
      ],
      "text/plain": [
       "<IPython.core.display.Javascript object>"
      ]
     },
     "metadata": {},
     "output_type": "display_data"
    },
    {
     "data": {
      "application/javascript": [
       "\n",
       "        if (window._pyforest_update_imports_cell) { window._pyforest_update_imports_cell('import matplotlib.pyplot as plt\\nimport pandas as pd\\nimport numpy as np'); }\n",
       "    "
      ],
      "text/plain": [
       "<IPython.core.display.Javascript object>"
      ]
     },
     "metadata": {},
     "output_type": "display_data"
    },
    {
     "data": {
      "application/javascript": [
       "\n",
       "        if (window._pyforest_update_imports_cell) { window._pyforest_update_imports_cell('import matplotlib.pyplot as plt\\nimport pandas as pd\\nimport numpy as np'); }\n",
       "    "
      ],
      "text/plain": [
       "<IPython.core.display.Javascript object>"
      ]
     },
     "metadata": {},
     "output_type": "display_data"
    },
    {
     "data": {
      "application/javascript": [
       "\n",
       "        if (window._pyforest_update_imports_cell) { window._pyforest_update_imports_cell('import matplotlib.pyplot as plt\\nimport pandas as pd\\nimport numpy as np'); }\n",
       "    "
      ],
      "text/plain": [
       "<IPython.core.display.Javascript object>"
      ]
     },
     "metadata": {},
     "output_type": "display_data"
    },
    {
     "data": {
      "application/javascript": [
       "\n",
       "        if (window._pyforest_update_imports_cell) { window._pyforest_update_imports_cell('import matplotlib.pyplot as plt\\nimport pandas as pd\\nimport numpy as np'); }\n",
       "    "
      ],
      "text/plain": [
       "<IPython.core.display.Javascript object>"
      ]
     },
     "metadata": {},
     "output_type": "display_data"
    },
    {
     "data": {
      "application/javascript": [
       "\n",
       "        if (window._pyforest_update_imports_cell) { window._pyforest_update_imports_cell('import matplotlib.pyplot as plt\\nimport pandas as pd\\nimport numpy as np'); }\n",
       "    "
      ],
      "text/plain": [
       "<IPython.core.display.Javascript object>"
      ]
     },
     "metadata": {},
     "output_type": "display_data"
    },
    {
     "data": {
      "application/javascript": [
       "\n",
       "        if (window._pyforest_update_imports_cell) { window._pyforest_update_imports_cell('import matplotlib.pyplot as plt\\nimport pandas as pd\\nimport numpy as np'); }\n",
       "    "
      ],
      "text/plain": [
       "<IPython.core.display.Javascript object>"
      ]
     },
     "metadata": {},
     "output_type": "display_data"
    },
    {
     "data": {
      "application/javascript": [
       "\n",
       "        if (window._pyforest_update_imports_cell) { window._pyforest_update_imports_cell('import matplotlib.pyplot as plt\\nimport pandas as pd\\nimport numpy as np'); }\n",
       "    "
      ],
      "text/plain": [
       "<IPython.core.display.Javascript object>"
      ]
     },
     "metadata": {},
     "output_type": "display_data"
    },
    {
     "data": {
      "application/javascript": [
       "\n",
       "        if (window._pyforest_update_imports_cell) { window._pyforest_update_imports_cell('import matplotlib.pyplot as plt\\nimport pandas as pd\\nimport numpy as np'); }\n",
       "    "
      ],
      "text/plain": [
       "<IPython.core.display.Javascript object>"
      ]
     },
     "metadata": {},
     "output_type": "display_data"
    },
    {
     "data": {
      "image/png": "[encoded data removed]",
      "text/plain": [
       "<Figure size 1000x600 with 1 Axes>"
      ]
     },
     "metadata": {},
     "output_type": "display_data"
    }
   ],
   "source": [
    "\n",
    "\n",
    "# Assuming you have already created the chubb_run_frame_1_xy DataFrame\n",
    "\n",
    "# Create a scatter plot\n",
    "plt.figure(figsize=(10, 6))  # Optional: Set the figure size\n",
    "\n",
    "# Define an array of colors based on a condition (e.g., based on a column value)\n",
    "# In this example, we set a different color for points where 'displayName' is 'Nick Chubb'\n",
    "colors = np.where(chubb_run_frame_1_xy['club'] == 'CLE', 'orange', 'black')\n",
    "\n",
    "# Use the 'colors' array to set the color of each point\n",
    "plt.scatter(chubb_run_frame_1_xy['x'], chubb_run_frame_1_xy['y'], marker='o', c=colors)\n",
    "\n",
    "\n",
    "# Add labels and title\n",
    "plt.xlabel('X Coordinate')\n",
    "plt.ylabel('Y Coordinate')\n",
    "plt.title('Starting Positions')\n",
    "\n",
    "# Annotate player names with custom font size\n",
    "for i, row in chubb_run_frame_1_xy.iterrows():\n",
    "    plt.annotate(row['displayName'], (row['x'], row['y']), textcoords=\"offset points\", xytext=(0, 10), ha='center', fontsize=6)  # Adjust fontsize as needed\n",
    "\n",
    "# Show the plot\n",
    "plt.grid(False)  # Remove grid\n",
    "plt.tight_layout()  # Ensure tight layout to prevent cutoff labels\n",
    "plt.show()"
   ]
  },
  {
   "cell_type": "code",
   "execution_count": 15,
   "id": "7af634e3-8762-4766-be14-36960db2b452",
   "metadata": {},
   "outputs": [
    {
     "data": {
      "text/html": [
       "<div>\n",
       "<style scoped>\n",
       "    .dataframe tbody tr th:only-of-type {\n",
       "        vertical-align: middle;\n",
       "    }\n",
       "\n",
       "    .dataframe tbody tr th {\n",
       "        vertical-align: top;\n",
       "    }\n",
       "\n",
       "    .dataframe thead th {\n",
       "        text-align: right;\n",
       "    }\n",
       "</style>\n",
       "<table border=\"1\" class=\"dataframe\">\n",
       "  <thead>\n",
       "    <tr style=\"text-align: right;\">\n",
       "      <th></th>\n",
       "      <th>frameId</th>\n",
       "      <th>displayName</th>\n",
       "      <th>jerseyNumber</th>\n",
       "      <th>club</th>\n",
       "      <th>x</th>\n",
       "      <th>y</th>\n",
       "    </tr>\n",
       "  </thead>\n",
       "  <tbody>\n",
       "    <tr>\n",
       "      <th>263465</th>\n",
       "      <td>1</td>\n",
       "      <td>Joel Bitonio</td>\n",
       "      <td>75</td>\n",
       "      <td>CLE</td>\n",
       "      <td>39.31</td>\n",
       "      <td>28.00</td>\n",
       "    </tr>\n",
       "    <tr>\n",
       "      <th>265103</th>\n",
       "      <td>1</td>\n",
       "      <td>Adetokunbo Ogundeji</td>\n",
       "      <td>92</td>\n",
       "      <td>ATL</td>\n",
       "      <td>36.92</td>\n",
       "      <td>24.70</td>\n",
       "    </tr>\n",
       "    <tr>\n",
       "      <th>263543</th>\n",
       "      <td>1</td>\n",
       "      <td>Grady Jarrett</td>\n",
       "      <td>97</td>\n",
       "      <td>ATL</td>\n",
       "      <td>37.17</td>\n",
       "      <td>30.04</td>\n",
       "    </tr>\n",
       "    <tr>\n",
       "      <th>264245</th>\n",
       "      <td>1</td>\n",
       "      <td>Wyatt Teller</td>\n",
       "      <td>77</td>\n",
       "      <td>CLE</td>\n",
       "      <td>39.06</td>\n",
       "      <td>31.36</td>\n",
       "    </tr>\n",
       "    <tr>\n",
       "      <th>265181</th>\n",
       "      <td>1</td>\n",
       "      <td>football</td>\n",
       "      <td>0</td>\n",
       "      <td>football</td>\n",
       "      <td>38.18</td>\n",
       "      <td>29.71</td>\n",
       "    </tr>\n",
       "  </tbody>\n",
       "</table>\n",
       "</div>"
      ],
      "text/plain": [
       "        frameId          displayName  jerseyNumber      club      x      y\n",
       "263465        1         Joel Bitonio            75       CLE  39.31  28.00\n",
       "265103        1  Adetokunbo Ogundeji            92       ATL  36.92  24.70\n",
       "263543        1        Grady Jarrett            97       ATL  37.17  30.04\n",
       "264245        1         Wyatt Teller            77       CLE  39.06  31.36\n",
       "265181        1             football             0  football  38.18  29.71"
      ]
     },
     "execution_count": 15,
     "metadata": {},
     "output_type": "execute_result"
    }
   ],
   "source": [
    "chubb_run_players=chubb_run_df[['frameId','displayName','jerseyNumber','club','x','y']]\n",
    "chubb_run_sorted_by_frame_df=chubb_run_players.sort_values('frameId')\n",
    "chubb_run_sorted_by_frame_df.head()"
   ]
  },
  {
   "cell_type": "code",
   "execution_count": 16,
   "id": "fdf91642-9b81-46fb-b676-eacb80ec7d76",
   "metadata": {},
   "outputs": [
    {
     "data": {
      "application/javascript": [
       "\n",
       "        if (window._pyforest_update_imports_cell) { window._pyforest_update_imports_cell('import matplotlib.pyplot as plt\\nimport pandas as pd\\nimport numpy as np'); }\n",
       "    "
      ],
      "text/plain": [
       "<IPython.core.display.Javascript object>"
      ]
     },
     "metadata": {},
     "output_type": "display_data"
    },
    {
     "data": {
      "application/javascript": [
       "\n",
       "        if (window._pyforest_update_imports_cell) { window._pyforest_update_imports_cell('import matplotlib.pyplot as plt\\nimport pandas as pd\\nimport numpy as np'); }\n",
       "    "
      ],
      "text/plain": [
       "<IPython.core.display.Javascript object>"
      ]
     },
     "metadata": {},
     "output_type": "display_data"
    },
    {
     "data": {
      "application/javascript": [
       "\n",
       "        if (window._pyforest_update_imports_cell) { window._pyforest_update_imports_cell('import matplotlib.pyplot as plt\\nimport pandas as pd\\nimport numpy as np'); }\n",
       "    "
      ],
      "text/plain": [
       "<IPython.core.display.Javascript object>"
      ]
     },
     "metadata": {},
     "output_type": "display_data"
    },
    {
     "data": {
      "application/javascript": [
       "\n",
       "        if (window._pyforest_update_imports_cell) { window._pyforest_update_imports_cell('import matplotlib.pyplot as plt\\nimport pandas as pd\\nimport numpy as np'); }\n",
       "    "
      ],
      "text/plain": [
       "<IPython.core.display.Javascript object>"
      ]
     },
     "metadata": {},
     "output_type": "display_data"
    },
    {
     "data": {
      "application/javascript": [
       "\n",
       "        if (window._pyforest_update_imports_cell) { window._pyforest_update_imports_cell('import matplotlib.pyplot as plt\\nimport pandas as pd\\nimport numpy as np'); }\n",
       "    "
      ],
      "text/plain": [
       "<IPython.core.display.Javascript object>"
      ]
     },
     "metadata": {},
     "output_type": "display_data"
    },
    {
     "data": {
      "application/javascript": [
       "\n",
       "        if (window._pyforest_update_imports_cell) { window._pyforest_update_imports_cell('import matplotlib.pyplot as plt\\nimport pandas as pd\\nimport numpy as np'); }\n",
       "    "
      ],
      "text/plain": [
       "<IPython.core.display.Javascript object>"
      ]
     },
     "metadata": {},
     "output_type": "display_data"
    },
    {
     "data": {
      "application/javascript": [
       "\n",
       "        if (window._pyforest_update_imports_cell) { window._pyforest_update_imports_cell('import matplotlib.pyplot as plt\\nimport pandas as pd\\nimport numpy as np'); }\n",
       "    "
      ],
      "text/plain": [
       "<IPython.core.display.Javascript object>"
      ]
     },
     "metadata": {},
     "output_type": "display_data"
    },
    {
     "data": {
      "application/javascript": [
       "\n",
       "        if (window._pyforest_update_imports_cell) { window._pyforest_update_imports_cell('import matplotlib.pyplot as plt\\nimport pandas as pd\\nimport numpy as np'); }\n",
       "    "
      ],
      "text/plain": [
       "<IPython.core.display.Javascript object>"
      ]
     },
     "metadata": {},
     "output_type": "display_data"
    },
    {
     "data": {
      "application/javascript": [
       "\n",
       "        if (window._pyforest_update_imports_cell) { window._pyforest_update_imports_cell('import matplotlib.pyplot as plt\\nimport pandas as pd\\nimport numpy as np'); }\n",
       "    "
      ],
      "text/plain": [
       "<IPython.core.display.Javascript object>"
      ]
     },
     "metadata": {},
     "output_type": "display_data"
    },
    {
     "data": {
      "image/png": "[encoded data removed]",
      "text/plain": [
       "<Figure size 1000x600 with 1 Axes>"
      ]
     },
     "metadata": {},
     "output_type": "display_data"
    }
   ],
   "source": [
    "\n",
    "# Create a scatter plot\n",
    "plt.figure(figsize=(10, 6))  # Optional: Set the figure size\n",
    "\n",
    "# Define an array of colors based on multiple conditions\n",
    "# In this example, we set colors based on 'club' and 'displayName'\n",
    "colors = np.where((chubb_run_df['club'] == 'CLE') | (chubb_run_df['displayName'] == 'Nick Chubb'),\n",
    "                   'orange',  # Color for CLE club and Nick Chubb\n",
    "                   'black')  # Default color for others\n",
    "\n",
    "# Use the 'colors' array to set the color of each point\n",
    "plt.scatter(chubb_run_df['x'], chubb_run_df['y'], marker='o', c=colors)\n",
    "\n",
    "# Add labels and title\n",
    "plt.xlabel('X Coordinate')\n",
    "plt.ylabel('Y Coordinate')\n",
    "plt.title('Chubb Run - Player Positions')\n",
    "\n",
    "# Show the plot\n",
    "plt.grid(False)  # Remove grid\n",
    "plt.tight_layout()\n",
    "plt.show()"
   ]
  },
  {
   "cell_type": "code",
   "execution_count": 17,
   "id": "56c1d8ba-1277-40c0-9dca-314287017ecc",
   "metadata": {},
   "outputs": [
    {
     "data": {
      "text/html": [
       "<div>\n",
       "<style scoped>\n",
       "    .dataframe tbody tr th:only-of-type {\n",
       "        vertical-align: middle;\n",
       "    }\n",
       "\n",
       "    .dataframe tbody tr th {\n",
       "        vertical-align: top;\n",
       "    }\n",
       "\n",
       "    .dataframe thead th {\n",
       "        text-align: right;\n",
       "    }\n",
       "</style>\n",
       "<table border=\"1\" class=\"dataframe\">\n",
       "  <thead>\n",
       "    <tr style=\"text-align: right;\">\n",
       "      <th></th>\n",
       "      <th>gameId</th>\n",
       "      <th>playId</th>\n",
       "      <th>nflId</th>\n",
       "      <th>displayName</th>\n",
       "      <th>frameId</th>\n",
       "      <th>time</th>\n",
       "      <th>jerseyNumber</th>\n",
       "      <th>club</th>\n",
       "      <th>playDirection</th>\n",
       "      <th>x</th>\n",
       "      <th>y</th>\n",
       "      <th>s</th>\n",
       "      <th>a</th>\n",
       "      <th>dis</th>\n",
       "      <th>o</th>\n",
       "      <th>dir</th>\n",
       "      <th>event</th>\n",
       "    </tr>\n",
       "  </thead>\n",
       "  <tbody>\n",
       "    <tr>\n",
       "      <th>264089</th>\n",
       "      <td>2022100201</td>\n",
       "      <td>2864</td>\n",
       "      <td>46104</td>\n",
       "      <td>Nick Chubb</td>\n",
       "      <td>1</td>\n",
       "      <td>2022-10-02 15:17:43.200000</td>\n",
       "      <td>24</td>\n",
       "      <td>CLE</td>\n",
       "      <td>left</td>\n",
       "      <td>46.19</td>\n",
       "      <td>29.94</td>\n",
       "      <td>0.0</td>\n",
       "      <td>0.0</td>\n",
       "      <td>0.0</td>\n",
       "      <td>278.18</td>\n",
       "      <td>324.34</td>\n",
       "      <td>NaN</td>\n",
       "    </tr>\n",
       "    <tr>\n",
       "      <th>264090</th>\n",
       "      <td>2022100201</td>\n",
       "      <td>2864</td>\n",
       "      <td>46104</td>\n",
       "      <td>Nick Chubb</td>\n",
       "      <td>2</td>\n",
       "      <td>2022-10-02 15:17:43.299999</td>\n",
       "      <td>24</td>\n",
       "      <td>CLE</td>\n",
       "      <td>left</td>\n",
       "      <td>46.19</td>\n",
       "      <td>29.94</td>\n",
       "      <td>0.0</td>\n",
       "      <td>0.0</td>\n",
       "      <td>0.0</td>\n",
       "      <td>277.57</td>\n",
       "      <td>319.83</td>\n",
       "      <td>man_in_motion</td>\n",
       "    </tr>\n",
       "    <tr>\n",
       "      <th>264091</th>\n",
       "      <td>2022100201</td>\n",
       "      <td>2864</td>\n",
       "      <td>46104</td>\n",
       "      <td>Nick Chubb</td>\n",
       "      <td>3</td>\n",
       "      <td>2022-10-02 15:17:43.400000</td>\n",
       "      <td>24</td>\n",
       "      <td>CLE</td>\n",
       "      <td>left</td>\n",
       "      <td>46.18</td>\n",
       "      <td>29.94</td>\n",
       "      <td>0.0</td>\n",
       "      <td>0.0</td>\n",
       "      <td>0.0</td>\n",
       "      <td>278.31</td>\n",
       "      <td>321.38</td>\n",
       "      <td>NaN</td>\n",
       "    </tr>\n",
       "    <tr>\n",
       "      <th>264092</th>\n",
       "      <td>2022100201</td>\n",
       "      <td>2864</td>\n",
       "      <td>46104</td>\n",
       "      <td>Nick Chubb</td>\n",
       "      <td>4</td>\n",
       "      <td>2022-10-02 15:17:43.500000</td>\n",
       "      <td>24</td>\n",
       "      <td>CLE</td>\n",
       "      <td>left</td>\n",
       "      <td>46.18</td>\n",
       "      <td>29.94</td>\n",
       "      <td>0.0</td>\n",
       "      <td>0.0</td>\n",
       "      <td>0.0</td>\n",
       "      <td>278.31</td>\n",
       "      <td>317.17</td>\n",
       "      <td>NaN</td>\n",
       "    </tr>\n",
       "    <tr>\n",
       "      <th>264093</th>\n",
       "      <td>2022100201</td>\n",
       "      <td>2864</td>\n",
       "      <td>46104</td>\n",
       "      <td>Nick Chubb</td>\n",
       "      <td>5</td>\n",
       "      <td>2022-10-02 15:17:43.599999</td>\n",
       "      <td>24</td>\n",
       "      <td>CLE</td>\n",
       "      <td>left</td>\n",
       "      <td>46.18</td>\n",
       "      <td>29.94</td>\n",
       "      <td>0.0</td>\n",
       "      <td>0.0</td>\n",
       "      <td>0.0</td>\n",
       "      <td>275.60</td>\n",
       "      <td>306.74</td>\n",
       "      <td>NaN</td>\n",
       "    </tr>\n",
       "  </tbody>\n",
       "</table>\n",
       "</div>"
      ],
      "text/plain": [
       "            gameId  playId  nflId displayName  frameId  \\\n",
       "264089  2022100201    2864  46104  Nick Chubb        1   \n",
       "264090  2022100201    2864  46104  Nick Chubb        2   \n",
       "264091  2022100201    2864  46104  Nick Chubb        3   \n",
       "264092  2022100201    2864  46104  Nick Chubb        4   \n",
       "264093  2022100201    2864  46104  Nick Chubb        5   \n",
       "\n",
       "                              time  jerseyNumber club playDirection      x  \\\n",
       "264089  2022-10-02 15:17:43.200000            24  CLE          left  46.19   \n",
       "264090  2022-10-02 15:17:43.299999            24  CLE          left  46.19   \n",
       "264091  2022-10-02 15:17:43.400000            24  CLE          left  46.18   \n",
       "264092  2022-10-02 15:17:43.500000            24  CLE          left  46.18   \n",
       "264093  2022-10-02 15:17:43.599999            24  CLE          left  46.18   \n",
       "\n",
       "            y    s    a  dis       o     dir          event  \n",
       "264089  29.94  0.0  0.0  0.0  278.18  324.34            NaN  \n",
       "264090  29.94  0.0  0.0  0.0  277.57  319.83  man_in_motion  \n",
       "264091  29.94  0.0  0.0  0.0  278.31  321.38            NaN  \n",
       "264092  29.94  0.0  0.0  0.0  278.31  317.17            NaN  \n",
       "264093  29.94  0.0  0.0  0.0  275.60  306.74            NaN  "
      ]
     },
     "execution_count": 17,
     "metadata": {},
     "output_type": "execute_result"
    }
   ],
   "source": [
    "chubb_solo_run=chubb_run_df.loc[chubb_run_df['displayName'] == 'Nick Chubb']\n",
    "chubb_solo_run.head()"
   ]
  },
  {
   "cell_type": "code",
   "execution_count": 22,
   "id": "85d27b07-174e-42dc-a815-246d9c1d6941",
   "metadata": {
    "scrolled": true
   },
   "outputs": [
    {
     "data": {
      "application/vnd.jupyter.widget-view+json": {
       "model_id": "ac836bb5666343ffa952d4c69ce7e20a",
       "version_major": 2,
       "version_minor": 0
      },
      "image/png": "[encoded data removed]",
      "text/html": [
       "\n",
       "            <div style=\"display: inline-block;\">\n",
       "                <div class=\"jupyter-widgets widget-label\" style=\"text-align: center;\">\n",
       "                    Figure\n",
       "                </div>\n",
       "                <img src='data:image/png;base64,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' width=640.0/>\n",
       "            </div>\n",
       "        "
      ],
      "text/plain": [
       "Canvas(toolbar=Toolbar(toolitems=[('Home', 'Reset original view', 'home', 'home'), ('Back', 'Back to previous …"
      ]
     },
     "metadata": {},
     "output_type": "display_data"
    }
   ],
   "source": [
    "\n",
    "# Create a figure and axis\n",
    "fig, bx = plt.subplots()\n",
    "\n",
    "# Define the update function\n",
    "def update(frame):\n",
    "    # Clear the previous frame's scatter plot\n",
    "    bx.clear()\n",
    "    \n",
    "    # Extract 'x' and 'y' data for the current frame\n",
    "    x_data = chubb_solo_run['x'][:frame]\n",
    "    y_data = chubb_solo_run['y'][:frame]\n",
    "    \n",
    "    # Plot the scatter plot for the current frame\n",
    "    scat = bx.scatter(x_data, y_data, marker='o', c=range(frame), cmap='viridis')\n",
    "    # Set axis limits and labels if needed\n",
    "    bx.set_xlim([0, 50])\n",
    "    bx.set_ylim([0, 53])\n",
    "    bx.set_xlabel('X Label')\n",
    "    bx.set_ylabel('Y Label')\n",
    "    \n",
    "    return scat,\n",
    "\n",
    "# Define the number of frames\n",
    "num_frames = 78\n",
    "\n",
    "# Create the animation\n",
    "animate = FuncAnimation(fig=fig, func=update, frames=num_frames ,interval=100)\n",
    "\n",
    "\n",
    "# Display the animation\n",
    "plt.show()"
   ]
  },
  {
   "cell_type": "code",
   "execution_count": 21,
   "id": "0fb2f90e-f137-405d-abfe-e16d688f5431",
   "metadata": {},
   "outputs": [
    {
     "data": {
      "application/vnd.jupyter.widget-view+json": {
       "model_id": "9bafa955d7c6416ca385d56df24ed21f",
       "version_major": 2,
       "version_minor": 0
      },
      "image/png": "[encoded data removed]",
      "text/html": [
       "\n",
       "            <div style=\"display: inline-block;\">\n",
       "                <div class=\"jupyter-widgets widget-label\" style=\"text-align: center;\">\n",
       "                    Figure\n",
       "                </div>\n",
       "                <img src='data:image/png;base64,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' width=640.0/>\n",
       "            </div>\n",
       "        "
      ],
      "text/plain": [
       "Canvas(toolbar=Toolbar(toolitems=[('Home', 'Reset original view', 'home', 'home'), ('Back', 'Back to previous …"
      ]
     },
     "metadata": {},
     "output_type": "display_data"
    }
   ],
   "source": [
    "# Create a figure and axis\n",
    "fig, dx = plt.subplots()\n",
    "\n",
    "# Define the update function\n",
    "def update(frame):\n",
    "    # Clear the previous frame's scatter plot\n",
    "    dx.clear()\n",
    "    \n",
    "    # Extract 'x' and 'y' data for the current frame\n",
    "    x_data = chubb_run_df['x'][:frame]\n",
    "    y_data = chubb_run_df['y'][:frame]\n",
    "    \n",
    "    # Plot the scatter plot for the current frame\n",
    "    scat = dx.scatter(x_data, y_data, marker='o', c=range(frame+1), cmap='viridis')\n",
    "    \n",
    "    # Set axis limits and labels if needed\n",
    "    dx.set_xlim([0, 50])\n",
    "    dx.set_ylim([0, 53])\n",
    "    dx.set_xlabel('X Label')\n",
    "    dx.set_ylabel('Y Label')\n",
    "    \n",
    "    return scat,\n",
    "\n",
    "# Define the number of frames\n",
    "num_frames = 78\n",
    "\n",
    "# Create the animation\n",
    "animate = FuncAnimation(fig=fig, func=update, frames=num_frames, interval=100)\n",
    "\n",
    "# Display the animation\n",
    "plt.show()"
   ]
  },
  {
   "cell_type": "code",
   "execution_count": 25,
   "id": "824c88fd-84e2-4c12-beb0-8d603941d8c0",
   "metadata": {},
   "outputs": [
    {
     "data": {
      "application/vnd.jupyter.widget-view+json": {
       "model_id": "2d545cc93a5148559adf531eaf590b2f",
       "version_major": 2,
       "version_minor": 0
      },
      "image/png": "[encoded data removed]",
      "text/html": [
       "\n",
       "            <div style=\"display: inline-block;\">\n",
       "                <div class=\"jupyter-widgets widget-label\" style=\"text-align: center;\">\n",
       "                    Figure\n",
       "                </div>\n",
       "                <img src='data:image/png;base64,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' width=640.0/>\n",
       "            </div>\n",
       "        "
      ],
      "text/plain": [
       "Canvas(toolbar=Toolbar(toolitems=[('Home', 'Reset original view', 'home', 'home'), ('Back', 'Back to previous …"
      ]
     },
     "metadata": {},
     "output_type": "display_data"
    }
   ],
   "source": [
    "# Create a figure and axis\n",
    "fig, ax = plt.subplots()\n",
    "\n",
    "# Define the update function\n",
    "def update(frame):\n",
    "    # Clear the previous frame's scatter plot\n",
    "    ax.clear()\n",
    "    \n",
    "    # Calculate the start and end indices for the current frame\n",
    "    start_idx = frame * 23\n",
    "    end_idx = (frame + 1) * 23\n",
    "    \n",
    "    # Extract 'x' and 'y' data for the current frame\n",
    "    x_data = chubb_run_df['x'].iloc[start_idx:end_idx]\n",
    "    y_data = chubb_run_df['y'].iloc[start_idx:end_idx]\n",
    "    \n",
    "    # Plot the scatter plot for the current frame with color based on the entire range of frames\n",
    "    scat = ax.scatter(x_data, y_data, marker='o', c=range(num_frames), cmap='viridis')\n",
    "    \n",
    "    # Set axis limits and labels if needed\n",
    "    ax.set_xlim([0, 50])\n",
    "    ax.set_ylim([0, 53])\n",
    "    ax.set_xlabel('X Label')\n",
    "    ax.set_ylabel('Y Label')\n",
    "    \n",
    "    return scat,\n",
    "\n",
    "# Define the number of frames\n",
    "num_frames = len(chubb_run_df) // 23  # Calculate the number of frames based on 23 points per frame\n",
    "\n",
    "# Create the animation\n",
    "animate = FuncAnimation(fig=fig, func=update, frames=num_frames, interval=100)\n",
    "\n",
    "# Display the animation\n",
    "plt.show()"
   ]
  },
  {
   "cell_type": "code",
   "execution_count": null,
   "id": "cceac59d-1f47-443d-be38-6ff2f889720a",
   "metadata": {},
   "outputs": [],
   "source": []
  },
  {
   "cell_type": "code",
   "execution_count": null,
   "id": "e2e79733-d464-4520-9a8e-2f9ce6a4ca82",
   "metadata": {},
   "outputs": [],
   "source": []
  }
 ],
 "metadata": {
  "kernelspec": {
   "display_name": "Python 3 (ipykernel)",
   "language": "python",
   "name": "python3"
  },
  "language_info": {
   "codemirror_mode": {
    "name": "ipython",
    "version": 3
   },
   "file_extension": ".py",
   "mimetype": "text/x-python",
   "name": "python",
   "nbconvert_exporter": "python",
   "pygments_lexer": "ipython3",
   "version": "3.10.13"
  }
 },
 "nbformat": 4,
 "nbformat_minor": 5
}
